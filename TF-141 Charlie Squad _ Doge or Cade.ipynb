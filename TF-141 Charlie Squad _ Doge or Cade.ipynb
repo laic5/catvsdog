{
 "cells": [
  {
   "cell_type": "markdown",
   "metadata": {},
   "source": [
    "# Cat vs. Dog Classification\n",
    "### Colin Santos and Cynthia Lai\n",
    "---"
   ]
  },
  {
   "cell_type": "markdown",
   "metadata": {},
   "source": [
    "Loading in Train and Test Images\n",
    "-----"
   ]
  },
  {
   "cell_type": "code",
   "execution_count": 3,
   "metadata": {
    "collapsed": false
   },
   "outputs": [],
   "source": [
    "import os\n",
    "import numpy as np\n",
    "from tqdm import tqdm \n",
    "from PIL import Image"
   ]
  },
  {
   "cell_type": "code",
   "execution_count": 2,
   "metadata": {
    "collapsed": true
   },
   "outputs": [],
   "source": [
    "def get_train_label(file_name):\n",
    "    \"\"\"Gives binary based on image name\"\"\"\n",
    "    category = file_name.split('.')[0]\n",
    "    if   category == 'cat': return 0 # [1, 0]\n",
    "    elif category == 'dog': return 1 # [0, 1]"
   ]
  },
  {
   "cell_type": "code",
   "execution_count": 4,
   "metadata": {
    "collapsed": false
   },
   "outputs": [],
   "source": [
    "train_directory = 'train_small/'\n",
    "\n",
    "# Form list of training images names\n",
    "train_dir_files  = os.listdir(train_directory)\n",
    "\n",
    "# Remove hidden MAC files\n",
    "train_dir_files     = [i for i in train_dir_files if i!= '.DS_Store' ]\n",
    "\n",
    "# Convert to 224 x 224 images\n",
    "train_im_list = [Image.open(train_directory + im).resize((224,224)) for im in train_dir_files]"
   ]
  },
  {
   "cell_type": "code",
   "execution_count": 5,
   "metadata": {
    "collapsed": false
   },
   "outputs": [],
   "source": [
    "numPics = len(train_dir_files)"
   ]
  },
  {
   "cell_type": "code",
   "execution_count": 6,
   "metadata": {
    "collapsed": false
   },
   "outputs": [],
   "source": [
    "# Get training labels \n",
    "train_labels = [get_train_label(file) for file in train_dir_files]"
   ]
  },
  {
   "cell_type": "code",
   "execution_count": 6,
   "metadata": {
    "collapsed": false
   },
   "outputs": [
    {
     "data": {
      "text/plain": [
       "([0, 0, 0, 0, 0], [1, 1, 1, 1, 1])"
      ]
     },
     "execution_count": 6,
     "metadata": {},
     "output_type": "execute_result"
    }
   ],
   "source": [
    "(train_labels[0:5], train_labels[20000:20005])"
   ]
  },
  {
   "cell_type": "code",
   "execution_count": null,
   "metadata": {
    "collapsed": true
   },
   "outputs": [],
   "source": [
    "# save the image list for later use\n",
    "\n",
    "import _pickle as cPickle\n",
    "f = open(\"im_list.pl\", 'wb') # .pl is a pickle file\n",
    "cPickle.dump(train_im_list, f)\n",
    "f.close()"
   ]
  },
  {
   "cell_type": "code",
   "execution_count": null,
   "metadata": {
    "collapsed": true
   },
   "outputs": [],
   "source": [
    "# Formatted data as (numpy arrays of) list of tuples of modified image and respective label or number\n",
    "train_data = [(np.array(train_im, dtype=np.float64), np.array(train_label)) for (train_im, train_label) in zip(train_im_list, train_labels)]"
   ]
  },
  {
   "cell_type": "markdown",
   "metadata": {},
   "source": [
    "# Convolutional Neural Network"
   ]
  },
  {
   "cell_type": "code",
   "execution_count": 8,
   "metadata": {
    "collapsed": false
   },
   "outputs": [
    {
     "name": "stderr",
     "output_type": "stream",
     "text": [
      "Using TensorFlow backend.\n"
     ]
    }
   ],
   "source": [
    "import tensorflow as tf\n",
    "import keras\n",
    "from imagenet_utils import decode_predictions\n",
    "from imagenet_utils import preprocess_input\n",
    "from vgg16 import VGG16"
   ]
  },
  {
   "cell_type": "markdown",
   "metadata": {},
   "source": [
    "## Unmodified VGG16 and ResNet50"
   ]
  },
  {
   "cell_type": "markdown",
   "metadata": {},
   "source": [
    "#### First, work with VGG16 model."
   ]
  },
  {
   "cell_type": "code",
   "execution_count": 9,
   "metadata": {
    "collapsed": false
   },
   "outputs": [],
   "source": [
    "# train_data and test_data are 2 lists of np.array images\n",
    "# need to preprocess images a bit more first\n",
    "\n",
    "# make img file (1, 224, 224, 3)\n",
    "temp = [np.expand_dims(image, axis = 0) for image in train_dat]\n",
    "train_data2 = [preprocess_input(image, dim_ordering =  'tf') for image in temp]\n",
    "#test_data = [preprocess_input(np.expand_dims(image, axis = 0)) for image in test_data]"
   ]
  },
  {
   "cell_type": "code",
   "execution_count": 10,
   "metadata": {
    "collapsed": false
   },
   "outputs": [],
   "source": [
    "# load model\n",
    "model = VGG16(weights=\"imagenet\")"
   ]
  },
  {
   "cell_type": "code",
   "execution_count": 17,
   "metadata": {
    "collapsed": false
   },
   "outputs": [
    {
     "name": "stdout",
     "output_type": "stream",
     "text": [
      "Downloading data from https://s3.amazonaws.com/deep-learning-models/image-models/imagenet_class_index.json\n"
     ]
    },
    {
     "ename": "ValueError",
     "evalue": "too many values to unpack (expected 2)",
     "output_type": "error",
     "traceback": [
      "\u001b[0;31m---------------------------------------------------------------------------\u001b[0m",
      "\u001b[0;31mValueError\u001b[0m                                Traceback (most recent call last)",
      "\u001b[0;32m<ipython-input-17-071b72a48049>\u001b[0m in \u001b[0;36m<module>\u001b[0;34m()\u001b[0m\n\u001b[1;32m      2\u001b[0m \u001b[0mpreds\u001b[0m \u001b[1;33m=\u001b[0m \u001b[1;33m[\u001b[0m\u001b[0mmodel\u001b[0m\u001b[1;33m.\u001b[0m\u001b[0mpredict\u001b[0m\u001b[1;33m(\u001b[0m\u001b[0mimage\u001b[0m\u001b[1;33m)\u001b[0m \u001b[1;32mfor\u001b[0m \u001b[0mimage\u001b[0m \u001b[1;32min\u001b[0m \u001b[0mtrain_data2\u001b[0m\u001b[1;33m[\u001b[0m\u001b[1;36m251\u001b[0m\u001b[1;33m:\u001b[0m\u001b[1;36m750\u001b[0m\u001b[1;33m]\u001b[0m\u001b[1;33m]\u001b[0m\u001b[1;33m\u001b[0m\u001b[0m\n\u001b[1;32m      3\u001b[0m \u001b[1;33m\u001b[0m\u001b[0m\n\u001b[0;32m----> 4\u001b[0;31m \u001b[1;33m(\u001b[0m\u001b[0minIDs\u001b[0m\u001b[1;33m,\u001b[0m \u001b[0mlabels\u001b[0m\u001b[1;33m)\u001b[0m \u001b[1;33m=\u001b[0m \u001b[1;33m[\u001b[0m\u001b[0mdecode_predictions\u001b[0m\u001b[1;33m(\u001b[0m\u001b[0mpred\u001b[0m\u001b[1;33m)\u001b[0m\u001b[1;33m[\u001b[0m\u001b[1;36m0\u001b[0m\u001b[1;33m]\u001b[0m \u001b[1;32mfor\u001b[0m \u001b[0mpred\u001b[0m \u001b[1;32min\u001b[0m \u001b[0mpreds\u001b[0m\u001b[1;33m]\u001b[0m\u001b[1;33m\u001b[0m\u001b[0m\n\u001b[0m",
      "\u001b[0;31mValueError\u001b[0m: too many values to unpack (expected 2)"
     ]
    }
   ],
   "source": [
    "# classify the image\n",
    "preds = [model.predict(image) for image in tqdm(train_data2[251:750])]"
   ]
  },
  {
   "cell_type": "code",
   "execution_count": 46,
   "metadata": {
    "collapsed": false
   },
   "outputs": [],
   "source": [
    "top_results = [decode_predictions(pred)[0][0] for pred in preds]\n",
    "labs = [res[1] for res in top_results]\n",
    "confs = [conf[2] for conf in top_results]"
   ]
  },
  {
   "cell_type": "code",
   "execution_count": 42,
   "metadata": {
    "collapsed": false
   },
   "outputs": [
    {
     "data": {
      "text/plain": [
       "['Siberian_husky',\n",
       " 'shield',\n",
       " 'Arctic_fox',\n",
       " 'plastic_bag',\n",
       " 'Egyptian_cat',\n",
       " 'Egyptian_cat',\n",
       " 'tabby',\n",
       " 'hamper',\n",
       " 'Persian_cat',\n",
       " 'Egyptian_cat',\n",
       " 'tabby',\n",
       " 'tabby',\n",
       " 'Egyptian_cat',\n",
       " 'Persian_cat',\n",
       " 'Egyptian_cat',\n",
       " 'bath_towel',\n",
       " 'tabby',\n",
       " 'Egyptian_cat',\n",
       " 'tabby',\n",
       " 'Siamese_cat',\n",
       " 'schipperke',\n",
       " 'web_site',\n",
       " 'tabby',\n",
       " 'Egyptian_cat',\n",
       " 'Egyptian_cat',\n",
       " 'tabby',\n",
       " 'Egyptian_cat',\n",
       " 'Siamese_cat',\n",
       " 'tabby',\n",
       " 'Egyptian_cat',\n",
       " 'lynx',\n",
       " 'tabby',\n",
       " 'tub',\n",
       " 'Egyptian_cat',\n",
       " 'cello',\n",
       " 'prairie_chicken',\n",
       " 'Egyptian_cat',\n",
       " 'Angora',\n",
       " 'Siberian_husky',\n",
       " 'hamster',\n",
       " 'Angora',\n",
       " 'Siamese_cat',\n",
       " 'Siamese_cat',\n",
       " 'Persian_cat',\n",
       " 'tiger_cat',\n",
       " 'Siamese_cat',\n",
       " 'tabby',\n",
       " 'tiger_cat',\n",
       " 'hamper',\n",
       " 'Egyptian_cat',\n",
       " 'Egyptian_cat',\n",
       " 'Egyptian_cat',\n",
       " 'tabby',\n",
       " 'Egyptian_cat',\n",
       " 'lynx',\n",
       " 'Persian_cat',\n",
       " 'lighter',\n",
       " 'Egyptian_cat',\n",
       " 'tabby',\n",
       " 'Egyptian_cat',\n",
       " 'tabby',\n",
       " 'Egyptian_cat',\n",
       " 'tabby',\n",
       " 'Persian_cat',\n",
       " 'Persian_cat',\n",
       " 'Egyptian_cat',\n",
       " 'Egyptian_cat',\n",
       " 'Angora',\n",
       " 'dishwasher',\n",
       " 'Egyptian_cat',\n",
       " 'tabby',\n",
       " 'tabby',\n",
       " 'Persian_cat',\n",
       " 'tiger_cat',\n",
       " 'Siberian_husky',\n",
       " 'fur_coat',\n",
       " 'Egyptian_cat',\n",
       " 'Egyptian_cat',\n",
       " 'Egyptian_cat',\n",
       " 'tiger_cat',\n",
       " 'Persian_cat',\n",
       " 'Egyptian_cat',\n",
       " 'Egyptian_cat',\n",
       " 'Egyptian_cat',\n",
       " 'tabby',\n",
       " 'Persian_cat',\n",
       " 'Siberian_husky',\n",
       " 'bath_towel',\n",
       " 'tabby',\n",
       " 'remote_control',\n",
       " 'schipperke',\n",
       " 'wombat',\n",
       " 'tabby',\n",
       " 'Scotch_terrier',\n",
       " 'carton',\n",
       " 'Egyptian_cat',\n",
       " 'Egyptian_cat',\n",
       " 'tabby',\n",
       " 'dam',\n",
       " 'tabby',\n",
       " 'tiger_cat',\n",
       " 'Egyptian_cat',\n",
       " 'tabby',\n",
       " 'Egyptian_cat',\n",
       " 'Siberian_husky',\n",
       " 'tabby',\n",
       " 'Persian_cat',\n",
       " 'tabby',\n",
       " 'Mexican_hairless',\n",
       " 'Egyptian_cat',\n",
       " 'schipperke',\n",
       " 'tabby',\n",
       " 'paper_towel',\n",
       " 'tabby',\n",
       " 'Boston_bull',\n",
       " 'paper_towel',\n",
       " 'Siamese_cat',\n",
       " 'tabby',\n",
       " 'Siberian_husky',\n",
       " 'lynx',\n",
       " 'mousetrap',\n",
       " 'Egyptian_cat',\n",
       " 'schipperke',\n",
       " 'tiger_cat',\n",
       " 'papillon',\n",
       " 'carton',\n",
       " 'mousetrap',\n",
       " 'giant_panda',\n",
       " 'Egyptian_cat',\n",
       " 'dishwasher',\n",
       " 'lynx',\n",
       " 'schipperke',\n",
       " 'Egyptian_cat',\n",
       " 'lynx',\n",
       " 'space_heater',\n",
       " 'paper_towel',\n",
       " 'Egyptian_cat',\n",
       " 'tabby',\n",
       " 'space_heater',\n",
       " 'cougar',\n",
       " 'groenendael',\n",
       " 'triceratops',\n",
       " 'hyena',\n",
       " 'tiger_cat',\n",
       " 'Egyptian_cat',\n",
       " 'borzoi',\n",
       " 'tiger_cat',\n",
       " 'carton',\n",
       " 'tabby',\n",
       " 'Egyptian_cat',\n",
       " 'schipperke',\n",
       " 'Shetland_sheepdog',\n",
       " 'Egyptian_cat',\n",
       " 'tabby',\n",
       " 'Egyptian_cat',\n",
       " 'tiger_cat',\n",
       " 'tabby',\n",
       " 'tabby',\n",
       " 'Egyptian_cat',\n",
       " 'Persian_cat',\n",
       " 'tiger_cat',\n",
       " 'Egyptian_cat',\n",
       " 'tabby',\n",
       " 'Egyptian_cat',\n",
       " 'tabby',\n",
       " 'tabby',\n",
       " 'tabby',\n",
       " 'tabby',\n",
       " 'Egyptian_cat',\n",
       " 'Newfoundland',\n",
       " 'Egyptian_cat',\n",
       " 'tabby',\n",
       " 'Egyptian_cat',\n",
       " 'hair_slide',\n",
       " 'tabby',\n",
       " 'carton',\n",
       " 'tabby',\n",
       " 'skunk',\n",
       " 'papillon',\n",
       " 'Egyptian_cat',\n",
       " 'dishwasher',\n",
       " 'Egyptian_cat',\n",
       " 'tabby',\n",
       " 'Angora',\n",
       " 'tabby',\n",
       " 'llama',\n",
       " 'tabby',\n",
       " 'Egyptian_cat',\n",
       " 'paper_towel',\n",
       " 'lynx',\n",
       " 'Egyptian_cat',\n",
       " 'schipperke',\n",
       " 'Siamese_cat',\n",
       " 'Cardigan',\n",
       " 'Egyptian_cat',\n",
       " 'Siamese_cat',\n",
       " 'tabby',\n",
       " 'Egyptian_cat',\n",
       " 'Siberian_husky',\n",
       " 'tabby',\n",
       " 'Siamese_cat',\n",
       " 'hamper',\n",
       " 'Egyptian_cat',\n",
       " 'tabby',\n",
       " 'Persian_cat',\n",
       " 'carton',\n",
       " 'Persian_cat',\n",
       " 'tiger_cat',\n",
       " 'tiger_cat',\n",
       " 'tabby',\n",
       " 'tabby',\n",
       " 'Egyptian_cat',\n",
       " 'lynx',\n",
       " 'tabby',\n",
       " 'Egyptian_cat',\n",
       " 'Persian_cat',\n",
       " 'Egyptian_cat',\n",
       " 'wombat',\n",
       " 'Egyptian_cat',\n",
       " 'Egyptian_cat',\n",
       " 'Shetland_sheepdog',\n",
       " 'Persian_cat',\n",
       " 'tabby',\n",
       " 'tabby',\n",
       " 'Shetland_sheepdog',\n",
       " 'prayer_rug',\n",
       " 'Egyptian_cat',\n",
       " 'Egyptian_cat',\n",
       " 'tabby',\n",
       " 'Egyptian_cat',\n",
       " 'toilet_tissue',\n",
       " 'Egyptian_cat',\n",
       " 'Egyptian_cat',\n",
       " 'Egyptian_cat',\n",
       " 'tiger_cat',\n",
       " 'Egyptian_cat',\n",
       " 'tabby',\n",
       " 'Egyptian_cat',\n",
       " 'Egyptian_cat',\n",
       " 'Egyptian_cat',\n",
       " 'tabby',\n",
       " 'Egyptian_cat',\n",
       " 'bookshop',\n",
       " 'doormat',\n",
       " 'Egyptian_cat',\n",
       " 'mixing_bowl',\n",
       " 'kelpie',\n",
       " 'Persian_cat',\n",
       " 'Saint_Bernard',\n",
       " 'briard',\n",
       " 'Staffordshire_bullterrier',\n",
       " 'bluetick',\n",
       " 'Rhodesian_ridgeback',\n",
       " 'Ibizan_hound',\n",
       " 'vizsla',\n",
       " 'Labrador_retriever',\n",
       " 'Italian_greyhound',\n",
       " 'Staffordshire_bullterrier',\n",
       " 'American_Staffordshire_terrier',\n",
       " 'German_shepherd',\n",
       " 'borzoi',\n",
       " 'Maltese_dog',\n",
       " 'bull_mastiff',\n",
       " 'redbone',\n",
       " 'beagle',\n",
       " 'flat-coated_retriever',\n",
       " 'American_Staffordshire_terrier',\n",
       " 'Labrador_retriever',\n",
       " 'Chesapeake_Bay_retriever',\n",
       " 'Staffordshire_bullterrier',\n",
       " 'Labrador_retriever',\n",
       " 'Newfoundland',\n",
       " 'golden_retriever',\n",
       " 'golden_retriever',\n",
       " 'malamute',\n",
       " 'whippet',\n",
       " 'English_setter',\n",
       " 'Rhodesian_ridgeback',\n",
       " 'kuvasz',\n",
       " 'Labrador_retriever',\n",
       " 'pug',\n",
       " 'boxer',\n",
       " 'golden_retriever',\n",
       " 'Saluki',\n",
       " 'miniature_pinscher',\n",
       " 'German_short-haired_pointer',\n",
       " 'redbone',\n",
       " 'Walker_hound',\n",
       " 'Dandie_Dinmont',\n",
       " 'bull_mastiff',\n",
       " 'dalmatian',\n",
       " 'malinois',\n",
       " 'dingo',\n",
       " 'Labrador_retriever',\n",
       " 'flat-coated_retriever',\n",
       " 'Staffordshire_bullterrier',\n",
       " 'Doberman',\n",
       " 'redbone',\n",
       " 'Airedale',\n",
       " 'soft-coated_wheaten_terrier',\n",
       " 'miniature_pinscher',\n",
       " 'Lhasa',\n",
       " 'redbone',\n",
       " 'German_short-haired_pointer',\n",
       " 'miniature_pinscher',\n",
       " 'kelpie',\n",
       " 'Rottweiler',\n",
       " 'kelpie',\n",
       " 'Saluki',\n",
       " 'white_wolf',\n",
       " 'bloodhound',\n",
       " 'Weimaraner',\n",
       " 'Siberian_husky',\n",
       " 'basenji',\n",
       " 'black-and-tan_coonhound',\n",
       " 'American_Staffordshire_terrier',\n",
       " 'German_shepherd',\n",
       " 'flat-coated_retriever',\n",
       " 'vizsla',\n",
       " 'kuvasz',\n",
       " 'basset',\n",
       " 'Staffordshire_bullterrier',\n",
       " 'schipperke',\n",
       " 'Newfoundland',\n",
       " 'Siberian_husky',\n",
       " 'Pekinese',\n",
       " 'Chihuahua',\n",
       " 'Chesapeake_Bay_retriever',\n",
       " 'curly-coated_retriever',\n",
       " 'dingo',\n",
       " 'Chihuahua',\n",
       " 'Siberian_husky',\n",
       " 'shopping_cart',\n",
       " 'Afghan_hound',\n",
       " 'kelpie',\n",
       " 'Rottweiler',\n",
       " 'German_shepherd',\n",
       " 'Tibetan_mastiff',\n",
       " 'groenendael',\n",
       " 'kelpie',\n",
       " 'Irish_setter',\n",
       " 'papillon',\n",
       " 'Irish_setter',\n",
       " 'Pembroke',\n",
       " 'schipperke',\n",
       " 'malinois',\n",
       " 'Chesapeake_Bay_retriever',\n",
       " 'Samoyed',\n",
       " 'Samoyed',\n",
       " 'Chesapeake_Bay_retriever',\n",
       " 'Walker_hound',\n",
       " 'Saluki',\n",
       " 'Norfolk_terrier',\n",
       " 'Rottweiler',\n",
       " 'wire-haired_fox_terrier',\n",
       " 'beagle',\n",
       " 'wire-haired_fox_terrier',\n",
       " 'golden_retriever',\n",
       " 'Lhasa',\n",
       " 'vizsla',\n",
       " 'Great_Pyrenees',\n",
       " 'collie',\n",
       " 'collie',\n",
       " 'schipperke',\n",
       " 'electric_fan',\n",
       " 'dogsled',\n",
       " 'Chesapeake_Bay_retriever',\n",
       " 'German_shepherd',\n",
       " 'French_bulldog',\n",
       " 'West_Highland_white_terrier',\n",
       " 'miniature_poodle',\n",
       " 'golden_retriever',\n",
       " 'dingo',\n",
       " 'Rottweiler',\n",
       " 'grey_fox',\n",
       " 'beagle',\n",
       " 'Rhodesian_ridgeback',\n",
       " 'English_setter',\n",
       " 'toy_terrier',\n",
       " 'kuvasz',\n",
       " 'Staffordshire_bullterrier',\n",
       " 'bloodhound',\n",
       " 'borzoi',\n",
       " 'Saluki',\n",
       " 'Saluki',\n",
       " 'American_Staffordshire_terrier',\n",
       " 'cairn',\n",
       " 'bloodhound',\n",
       " 'Great_Dane',\n",
       " 'Shih-Tzu',\n",
       " 'cocker_spaniel',\n",
       " 'Walker_hound',\n",
       " 'dingo',\n",
       " 'redbone',\n",
       " 'collie',\n",
       " 'Tibetan_terrier',\n",
       " 'Italian_greyhound',\n",
       " 'Rhodesian_ridgeback',\n",
       " 'Labrador_retriever',\n",
       " 'kelpie',\n",
       " 'keeshond',\n",
       " 'Norwegian_elkhound',\n",
       " 'Staffordshire_bullterrier',\n",
       " 'kelpie',\n",
       " 'Chihuahua',\n",
       " 'beagle',\n",
       " 'Pembroke',\n",
       " 'beagle',\n",
       " 'Labrador_retriever',\n",
       " 'Labrador_retriever',\n",
       " 'Sussex_spaniel',\n",
       " 'Rhodesian_ridgeback',\n",
       " 'Norfolk_terrier',\n",
       " 'Staffordshire_bullterrier',\n",
       " 'Labrador_retriever',\n",
       " 'redbone',\n",
       " 'Pomeranian',\n",
       " 'whippet',\n",
       " 'Labrador_retriever',\n",
       " 'German_shepherd',\n",
       " 'vizsla',\n",
       " 'Walker_hound',\n",
       " 'Tibetan_mastiff',\n",
       " 'miniature_pinscher',\n",
       " 'Staffordshire_bullterrier',\n",
       " 'Great_Pyrenees',\n",
       " 'Chesapeake_Bay_retriever',\n",
       " 'whippet',\n",
       " 'Ibizan_hound',\n",
       " 'hog',\n",
       " 'Chihuahua',\n",
       " 'Labrador_retriever',\n",
       " 'bloodhound',\n",
       " 'American_Staffordshire_terrier',\n",
       " 'American_Staffordshire_terrier',\n",
       " 'Doberman',\n",
       " 'German_shepherd',\n",
       " 'American_Staffordshire_terrier',\n",
       " 'flat-coated_retriever',\n",
       " 'beagle',\n",
       " 'basenji',\n",
       " 'hand_blower',\n",
       " 'Staffordshire_bullterrier',\n",
       " 'Rottweiler',\n",
       " 'Border_collie',\n",
       " 'Labrador_retriever',\n",
       " 'Greater_Swiss_Mountain_dog',\n",
       " 'chow',\n",
       " 'golden_retriever',\n",
       " 'beagle',\n",
       " 'miniature_schnauzer',\n",
       " 'Great_Dane',\n",
       " 'cocker_spaniel',\n",
       " 'basset',\n",
       " 'Walker_hound',\n",
       " 'Chesapeake_Bay_retriever',\n",
       " 'miniature_pinscher',\n",
       " 'beagle',\n",
       " 'English_foxhound',\n",
       " 'Labrador_retriever',\n",
       " 'German_shepherd',\n",
       " 'Labrador_retriever',\n",
       " 'papillon',\n",
       " 'kelpie',\n",
       " 'German_shepherd',\n",
       " 'Weimaraner',\n",
       " 'Chesapeake_Bay_retriever',\n",
       " 'vizsla',\n",
       " 'book_jacket',\n",
       " 'Siberian_husky',\n",
       " 'Chihuahua',\n",
       " 'flat-coated_retriever',\n",
       " 'German_shepherd',\n",
       " 'Rhodesian_ridgeback',\n",
       " 'Walker_hound',\n",
       " 'curly-coated_retriever',\n",
       " 'beagle',\n",
       " 'chainlink_fence',\n",
       " 'dingo',\n",
       " 'Bernese_mountain_dog',\n",
       " 'Rhodesian_ridgeback',\n",
       " 'black-and-tan_coonhound',\n",
       " 'English_setter',\n",
       " 'Doberman',\n",
       " 'Arctic_fox',\n",
       " 'Siberian_husky',\n",
       " 'German_shepherd',\n",
       " 'flat-coated_retriever',\n",
       " 'Pomeranian',\n",
       " 'English_springer',\n",
       " 'Labrador_retriever',\n",
       " 'golden_retriever',\n",
       " 'redbone',\n",
       " 'Rhodesian_ridgeback',\n",
       " 'miniature_pinscher',\n",
       " 'malinois',\n",
       " 'Irish_terrier',\n",
       " 'German_shepherd',\n",
       " 'Brittany_spaniel']"
      ]
     },
     "execution_count": 42,
     "metadata": {},
     "output_type": "execute_result"
    }
   ],
   "source": [
    "labs"
   ]
  },
  {
   "cell_type": "markdown",
   "metadata": {},
   "source": [
    "### Turn specific results into binary (i.e. Samoyed -> Dog)"
   ]
  },
  {
   "cell_type": "code",
   "execution_count": null,
   "metadata": {
    "collapsed": false
   },
   "outputs": [],
   "source": [
    "# Load in Imagenet classications groupings for cats and dogs\n",
    "with open('cats.txt') as f:\n",
    "    cats = [line.rstrip() for line in f]\n",
    "with open('dogs.txt') as f:\n",
    "    dogs = [line.rstrip() for line in f]"
   ]
  },
  {
   "cell_type": "code",
   "execution_count": null,
   "metadata": {
    "collapsed": true
   },
   "outputs": [],
   "source": [
    "def cat_or_dog(full_class_string):\n",
    "    \"\"\"Returns generalized classification of cat or dog\"\"\"\n",
    "    if full_class_string in cats: return 'cat'\n",
    "    if full_class_string in dogs: return 'dog'\n",
    "    \n",
    "def one_or_zero(full_class_string):\n",
    "    \"\"\"Returns generalize classification of cat or dog as bool\"\"\"\n",
    "    if full_class_string in cats: return 0\n",
    "    if full_class_string in dogs: return 1\n",
    "    \n",
    "from operator import eq\n",
    "def calculate_accuracy(pred_labels, true_labels):\n",
    "    return sum(map(eq, pred_labels, true_labels)) / float(len(true_labels))"
   ]
  },
  {
   "cell_type": "code",
   "execution_count": null,
   "metadata": {
    "collapsed": false
   },
   "outputs": [],
   "source": [
    "simple_labels = [one_or_zero(label) for label in labels]\n",
    "\n",
    "accuracy = calculate_accuracy(simple_labels, train_labels)\n",
    "error = 1 - accuracy"
   ]
  },
  {
   "cell_type": "markdown",
   "metadata": {
    "collapsed": true
   },
   "source": [
    "### Transfer Learning\n",
    "Change the last layer of the model to output only 2 categories."
   ]
  },
  {
   "cell_type": "code",
   "execution_count": null,
   "metadata": {
    "collapsed": true
   },
   "outputs": [],
   "source": [
    "from keras.models import Sequential\n",
    "from keras.layers import Conv2D, MaxPooling2D\n",
    "from keras.layers import Activation, Dropout, Flatten, Dense\n",
    "from keras import backend as K"
   ]
  },
  {
   "cell_type": "code",
   "execution_count": 46,
   "metadata": {
    "collapsed": false
   },
   "outputs": [],
   "source": [
    "# Borrowed from: https://github.com/DeepLearningSandbox/DeepLearningSandbox/blob/master/transfer_learning/fine-tune.py\n",
    "\n",
    "from keras.applications.resnet50 import ResNet50, preprocess_input\n",
    "from keras.models import Model\n",
    "from keras.layers import Dense, GlobalAveragePooling2D\n",
    "from keras.preprocessing.image import ImageDataGenerator\n",
    "from keras.optimizers import SGD\n",
    "\n",
    "\n",
    "NB_EPOCHS = 1\n",
    "SAMPLE_EPOCH = 200\n",
    "BAT_SIZE = 16\n",
    "NB_CLASSES = 2\n",
    "IM_WIDTH = 224\n",
    "IM_HEIGHT = 224\n",
    "FC_SIZE = 200 # number of outputs\n",
    "NUM_TEST = 100\n",
    "\n",
    "def add_new_last_layer(base_model, nb_classes):\n",
    "    \"\"\"Add last layer to the convnet\n",
    "    Args:\n",
    "    base_model: keras model excluding top\n",
    "    nb_classes: # of classes\n",
    "    Returns:\n",
    "    new keras model with last layer\n",
    "    \"\"\"\n",
    "    x = base_model.output\n",
    "    x = GlobalAveragePooling2D()(x)\n",
    "    x = Dense(FC_SIZE, activation='relu')(x) #new FC layer, random init\n",
    "    predictions = Dense(nb_classes, activation='softmax')(x) #new softmax layer\n",
    "    model = Model(inputs = base_model.input, outputs = predictions)\n",
    "    return model\n",
    "\n",
    "def setup_to_transfer_learn(model, base_model):\n",
    "    \"\"\"Freeze all layers and compile the model\"\"\"\n",
    "    for layer in base_model.layers:\n",
    "        layer.trainable = False\n",
    "    model.compile(optimizer='rmsprop', loss='categorical_crossentropy', metrics=['accuracy'])\n",
    "\n",
    "def res50_train(train_dir, val_dir):\n",
    "    \n",
    "    train_datagen =  ImageDataGenerator(shear_range=0.2, zoom_range=0.2, horizontal_flip=True, rescale=1. / 255)\n",
    "\n",
    "\n",
    "\n",
    "    test_datagen = ImageDataGenerator(rescale=1. / 255)\n",
    "\n",
    "    train_generator = train_datagen.flow_from_directory(train_dir, target_size=(IM_WIDTH, IM_HEIGHT), batch_size=BAT_SIZE)\n",
    "\n",
    "    validation_generator = test_datagen.flow_from_directory(val_dir, target_size=(IM_WIDTH, IM_HEIGHT), batch_size=BAT_SIZE)\n",
    "\n",
    "    base_model = ResNet50(weights='imagenet', include_top=False) #include_top=False excludes final FC layer\n",
    "    model = add_new_last_layer(base_model, NB_CLASSES)\n",
    "    setup_to_transfer_learn(model, base_model)\n",
    "\n",
    "    model.fit_generator(train_generator, epochs = NB_EPOCHS, steps_per_epoch = SAMPLE_EPOCH, \\\n",
    "                                     validation_data=validation_generator, validation_steps = NUM_TEST)\n",
    "    model.save(\"res50_train.model\")"
   ]
  },
  {
   "cell_type": "code",
   "execution_count": null,
   "metadata": {
    "collapsed": false
   },
   "outputs": [
    {
     "name": "stdout",
     "output_type": "stream",
     "text": [
      "Found 200 images belonging to 2 classes.\n",
      "Found 50 images belonging to 2 classes.\n",
      "Epoch 1/1\n",
      " 29/200 [===>..........................] - ETA: 4896s - loss: 0.5946 - acc: 0.6875\b\b\b\b\b\b\b\b\b\b\b\b\b\b\b\b\b\b\b\b\b\b\b\b\b\b\b\b\b\b\b\b\b\b\b\b\b\b\b\b\b\b\b\b\b\b\b\b\b\b\b\b\b\b\b\b\b\b\b\b\b\b\b\b\b\b\b\b\b\b\b\b\b\b\b\b\b\b\b\b\b\b - ETA: 4344s - loss: 2.2245 - acc: 0.6250\b\b\b\b\b\b\b\b\b\b\b\b\b\b\b\b\b\b\b\b\b\b\b\b\b\b\b\b\b\b\b\b\b\b\b\b\b\b\b\b\b\b\b\b\b\b\b\b\b\b\b\b\b\b\b\b\b\b\b\b\b\b\b\b\b\b\b\b\b\b\b\b\b\b\b\b\b\b\b\b\b\b - ETA: 4114s - loss: 2.7941 - acc: 0.6042\b\b\b\b\b\b\b\b\b\b\b\b\b\b\b\b\b\b\b\b\b\b\b\b\b\b\b\b\b\b\b\b\b\b\b\b\b\b\b\b\b\b\b\b\b\b\b\b\b\b\b\b\b\b\b\b\b\b\b\b\b\b\b\b\b\b\b\b\b\b\b\b\b\b\b\b\b\b\b\b\b\b - ETA: 3788s - loss: 2.3398 - acc: 0.6250\b\b\b\b\b\b\b\b\b\b\b\b\b\b\b\b\b\b\b\b\b\b\b\b\b\b\b\b\b\b\b\b\b\b\b\b\b\b\b\b\b\b\b\b\b\b\b\b\b\b\b\b\b\b\b\b\b\b\b\b\b\b\b\b\b\b\b\b\b\b\b\b\b\b\b\b\b\b\b\b\b\b - ETA: 3619s - loss: 2.2727 - acc: 0.5875\b\b\b\b\b\b\b\b\b\b\b\b\b\b\b\b\b\b\b\b\b\b\b\b\b\b\b\b\b\b\b\b\b\b\b\b\b\b\b\b\b\b\b\b\b\b\b\b\b\b\b\b\b\b\b\b\b\b\b\b\b\b\b\b\b\b\b\b\b\b\b\b\b\b\b\b\b\b\b\b\b\b - ETA: 3577s - loss: 2.1130 - acc: 0.6042\b\b\b\b\b\b\b\b\b\b\b\b\b\b\b\b\b\b\b\b\b\b\b\b\b\b\b\b\b\b\b\b\b\b\b\b\b\b\b\b\b\b\b\b\b\b\b\b\b\b\b\b\b\b\b\b\b\b\b\b\b\b\b\b\b\b\b\b\b\b\b\b\b\b\b\b\b\b\b\b\b\b - ETA: 3588s - loss: 1.8707 - acc: 0.6518\b\b\b\b\b\b\b\b\b\b\b\b\b\b\b\b\b\b\b\b\b\b\b\b\b\b\b\b\b\b\b\b\b\b\b\b\b\b\b\b\b\b\b\b\b\b\b\b\b\b\b\b\b\b\b\b\b\b\b\b\b\b\b\b\b\b\b\b\b\b\b\b\b\b\b\b\b\b\b\b\b\b - ETA: 3508s - loss: 1.6633 - acc: 0.6875\b\b\b\b\b\b\b\b\b\b\b\b\b\b\b\b\b\b\b\b\b\b\b\b\b\b\b\b\b\b\b\b\b\b\b\b\b\b\b\b\b\b\b\b\b\b\b\b\b\b\b\b\b\b\b\b\b\b\b\b\b\b\b\b\b\b\b\b\b\b\b\b\b\b\b\b\b\b\b\b\b\b - ETA: 3445s - loss: 1.5135 - acc: 0.7083\b\b\b\b\b\b\b\b\b\b\b\b\b\b\b\b\b\b\b\b\b\b\b\b\b\b\b\b\b\b\b\b\b\b\b\b\b\b\b\b\b\b\b\b\b\b\b\b\b\b\b\b\b\b\b\b\b\b\b\b\b\b\b\b\b\b\b\b\b\b\b\b\b\b\b\b\b\b\b\b\b\b - ETA: 3398s - loss: 1.3948 - acc: 0.7312\b\b\b\b\b\b\b\b\b\b\b\b\b\b\b\b\b\b\b\b\b\b\b\b\b\b\b\b\b\b\b\b\b\b\b\b\b\b\b\b\b\b\b\b\b\b\b\b\b\b\b\b\b\b\b\b\b\b\b\b\b\b\b\b\b\b\b\b\b\b\b\b\b\b\b\b\b\b\b\b\b\b - ETA: 3342s - loss: 1.3032 - acc: 0.7386\b\b\b\b\b\b\b\b\b\b\b\b\b\b\b\b\b\b\b\b\b\b\b\b\b\b\b\b\b\b\b\b\b\b\b\b\b\b\b\b\b\b\b\b\b\b\b\b\b\b\b\b\b\b\b\b\b\b\b\b\b\b\b\b\b\b\b\b\b\b\b\b\b\b\b\b\b\b\b\b\b\b - ETA: 3305s - loss: 1.2879 - acc: 0.7344\b\b\b\b\b\b\b\b\b\b\b\b\b\b\b\b\b\b\b\b\b\b\b\b\b\b\b\b\b\b\b\b\b\b\b\b\b\b\b\b\b\b\b\b\b\b\b\b\b\b\b\b\b\b\b\b\b\b\b\b\b\b\b\b\b\b\b\b\b\b\b\b\b\b\b\b\b\b\b\b\b\b - ETA: 3137s - loss: 1.2366 - acc: 0.7260\b\b\b\b\b\b\b\b\b\b\b\b\b\b\b\b\b\b\b\b\b\b\b\b\b\b\b\b\b\b\b\b\b\b\b\b\b\b\b\b\b\b\b\b\b\b\b\b\b\b\b\b\b\b\b\b\b\b\b\b\b\b\b\b\b\b\b\b\b\b\b\b\b\b\b\b\b\b\b\b\b\b - ETA: 3110s - loss: 1.2029 - acc: 0.7277\b\b\b\b\b\b\b\b\b\b\b\b\b\b\b\b\b\b\b\b\b\b\b\b\b\b\b\b\b\b\b\b\b\b\b\b\b\b\b\b\b\b\b\b\b\b\b\b\b\b\b\b\b\b\b\b\b\b\b\b\b\b\b\b\b\b\b\b\b\b\b\b\b\b\b\b\b\b\b\b\b\b - ETA: 3075s - loss: 1.1288 - acc: 0.7417\b\b\b\b\b\b\b\b\b\b\b\b\b\b\b\b\b\b\b\b\b\b\b\b\b\b\b\b\b\b\b\b\b\b\b\b\b\b\b\b\b\b\b\b\b\b\b\b\b\b\b\b\b\b\b\b\b\b\b\b\b\b\b\b\b\b\b\b\b\b\b\b\b\b\b\b\b\b\b\b\b\b - ETA: 3043s - loss: 1.0704 - acc: 0.7539\b\b\b\b\b\b\b\b\b\b\b\b\b\b\b\b\b\b\b\b\b\b\b\b\b\b\b\b\b\b\b\b\b\b\b\b\b\b\b\b\b\b\b\b\b\b\b\b\b\b\b\b\b\b\b\b\b\b\b\b\b\b\b\b\b\b\b\b\b\b\b\b\b\b\b\b\b\b\b\b\b\b - ETA: 3016s - loss: 1.0122 - acc: 0.7684\b\b\b\b\b\b\b\b\b\b\b\b\b\b\b\b\b\b\b\b\b\b\b\b\b\b\b\b\b\b\b\b\b\b\b\b\b\b\b\b\b\b\b\b\b\b\b\b\b\b\b\b\b\b\b\b\b\b\b\b\b\b\b\b\b\b\b\b\b\b\b\b\b\b\b\b\b\b\b\b\b\b - ETA: 2980s - loss: 0.9594 - acc: 0.7812\b\b\b\b\b\b\b\b\b\b\b\b\b\b\b\b\b\b\b\b\b\b\b\b\b\b\b\b\b\b\b\b\b\b\b\b\b\b\b\b\b\b\b\b\b\b\b\b\b\b\b\b\b\b\b\b\b\b\b\b\b\b\b\b\b\b\b\b\b\b\b\b\b\b\b\b\b\b\b\b\b\b - ETA: 2949s - loss: 0.9263 - acc: 0.7895\b\b\b\b\b\b\b\b\b\b\b\b\b\b\b\b\b\b\b\b\b\b\b\b\b\b\b\b\b\b\b\b\b\b\b\b\b\b\b\b\b\b\b\b\b\b\b\b\b\b\b\b\b\b\b\b\b\b\b\b\b\b\b\b\b\b\b\b\b\b\b\b\b\b\b\b\b\b\b\b\b\b - ETA: 2922s - loss: 0.9448 - acc: 0.7781\b\b\b\b\b\b\b\b\b\b\b\b\b\b\b\b\b\b\b\b\b\b\b\b\b\b\b\b\b\b\b\b\b\b\b\b\b\b\b\b\b\b\b\b\b\b\b\b\b\b\b\b\b\b\b\b\b\b\b\b\b\b\b\b\b\b\b\b\b\b\b\b\b\b\b\b\b\b\b\b\b\b - ETA: 2884s - loss: 0.9150 - acc: 0.7827\b\b\b\b\b\b\b\b\b\b\b\b\b\b\b\b\b\b\b\b\b\b\b\b\b\b\b\b\b\b\b\b\b\b\b\b\b\b\b\b\b\b\b\b\b\b\b\b\b\b\b\b\b\b\b\b\b\b\b\b\b\b\b\b\b\b\b\b\b\b\b\b\b\b\b\b\b\b\b\b\b\b - ETA: 2854s - loss: 0.8780 - acc: 0.7926\b\b\b\b\b\b\b\b\b\b\b\b\b\b\b\b\b\b\b\b\b\b\b\b\b\b\b\b\b\b\b\b\b\b\b\b\b\b\b\b\b\b\b\b\b\b\b\b\b\b\b\b\b\b\b\b\b\b\b\b\b\b\b\b\b\b\b\b\b\b\b\b\b\b\b\b\b\b\b\b\b\b - ETA: 2822s - loss: 0.8476 - acc: 0.7935\b\b\b\b\b\b\b\b\b\b\b\b\b\b\b\b\b\b\b\b\b\b\b\b\b\b\b\b\b\b\b\b\b\b\b\b\b\b\b\b\b\b\b\b\b\b\b\b\b\b\b\b\b\b\b\b\b\b\b\b\b\b\b\b\b\b\b\b\b\b\b\b\b\b\b\b\b\b\b\b\b\b - ETA: 2792s - loss: 0.8138 - acc: 0.8021\b\b\b\b\b\b\b\b\b\b\b\b\b\b\b\b\b\b\b\b\b\b\b\b\b\b\b\b\b\b\b\b\b\b\b\b\b\b\b\b\b\b\b\b\b\b\b\b\b\b\b\b\b\b\b\b\b\b\b\b\b\b\b\b\b\b\b\b\b\b\b\b\b\b\b\b\b\b\b\b\b\b - ETA: 2761s - loss: 0.7832 - acc: 0.8100\b\b\b\b\b\b\b\b\b\b\b\b\b\b\b\b\b\b\b\b\b\b\b\b\b\b\b\b\b\b\b\b\b\b\b\b\b\b\b\b\b\b\b\b\b\b\b\b\b\b\b\b\b\b\b\b\b\b\b\b\b\b\b\b\b\b\b\b\b\b\b\b\b\b\b\b\b\b\b\b\b\b - ETA: 2688s - loss: 0.7628 - acc: 0.8125\b\b\b\b\b\b\b\b\b\b\b\b\b\b\b\b\b\b\b\b\b\b\b\b\b\b\b\b\b\b\b\b\b\b\b\b\b\b\b\b\b\b\b\b\b\b\b\b\b\b\b\b\b\b\b\b\b\b\b\b\b\b\b\b\b\b\b\b\b\b\b\b\b\b\b\b\b\b\b\b\b\b - ETA: 2670s - loss: 0.7384 - acc: 0.8171\b\b\b\b\b\b\b\b\b\b\b\b\b\b\b\b\b\b\b\b\b\b\b\b\b\b\b\b\b\b\b\b\b\b\b\b\b\b\b\b\b\b\b\b\b\b\b\b\b\b\b\b\b\b\b\b\b\b\b\b\b\b\b\b\b\b\b\b\b\b\b\b\b\b\b\b\b\b\b\b\b\b - ETA: 2669s - loss: 0.7156 - acc: 0.8214\b\b\b\b\b\b\b\b\b\b\b\b\b\b\b\b\b\b\b\b\b\b\b\b\b\b\b\b\b\b\b\b\b\b\b\b\b\b\b\b\b\b\b\b\b\b\b\b\b\b\b\b\b\b\b\b\b\b\b\b\b\b\b\b\b\b\b\b\b\b\b\b\b\b\b\b\b\b\b\b\b\b - ETA: 2654s - loss: 0.7034 - acc: 0.8190"
     ]
    }
   ],
   "source": [
    "res50_train(\"train_small\", \"test_small\")"
   ]
  }
 ],
 "metadata": {
  "anaconda-cloud": {},
  "kernelspec": {
   "display_name": "Python 3",
   "language": "python",
   "name": "python3"
  },
  "language_info": {
   "codemirror_mode": {
    "name": "ipython",
    "version": 3
   },
   "file_extension": ".py",
   "mimetype": "text/x-python",
   "name": "python",
   "nbconvert_exporter": "python",
   "pygments_lexer": "ipython3",
   "version": "3.6.0"
  }
 },
 "nbformat": 4,
 "nbformat_minor": 2
}
