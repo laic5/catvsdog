{
 "cells": [
  {
   "cell_type": "markdown",
   "metadata": {},
   "source": [
    "# Cat vs. Dog Classification\n",
    "### Colin Santos and Cynthia Lai\n",
    "---"
   ]
  },
  {
   "cell_type": "markdown",
   "metadata": {},
   "source": [
    "Loading in Train and Test Images\n",
    "-----"
   ]
  },
  {
   "cell_type": "code",
   "execution_count": null,
   "metadata": {
    "collapsed": true
   },
   "outputs": [],
   "source": [
    "import os\n",
    "# import tensorflow as tf\n",
    "import numpy as np\n",
    "# import keras\n",
    "# from random import shuffle\n",
    "# from tqdm import tqdm\n",
    "from PIL import Image"
   ]
  },
  {
   "cell_type": "code",
   "execution_count": null,
   "metadata": {
    "collapsed": true
   },
   "outputs": [],
   "source": [
    "def get_train_label(file_name):\n",
    "    \"\"\"Gives binary based on image name\"\"\"\n",
    "    category = file_name.split('.')[0]\n",
    "    if   category == 'cat': return 0 # [1, 0]\n",
    "    elif category == 'dog': return 1 # [0, 1]"
   ]
  },
  {
   "cell_type": "code",
   "execution_count": null,
   "metadata": {
    "collapsed": false
   },
   "outputs": [],
   "source": [
    "test_directory = 'test1/' # may change on your laptop and mine\n",
    "\n",
    "# Form list of testing images\n",
    "test_dir_files   = os.listdir(test_directory)\n",
    "# Remove hidden MAC files\n",
    "# test_dir   = [i for i in test_dir if i!= '.DS_Store' ]\n",
    "# Convert to grayscale 224 x 224 images \n",
    "# !!! Modify image augmentation/normalization as necessary !!!\n",
    "test_im_list = [Image.open(test_directory + im).convert(\"L\").resize((224,224)) for im in test_dir_files]"
   ]
  },
  {
   "cell_type": "code",
   "execution_count": null,
   "metadata": {
    "collapsed": false
   },
   "outputs": [],
   "source": [
    "test_dir_files[0:5]"
   ]
  },
  {
   "cell_type": "markdown",
   "metadata": {},
   "source": [
    "If you want to display an image, you can just list it out *(i.e. test_im_list[30])*\n",
    "However, if you are working on terminal, you have to do *{img file}.show()*"
   ]
  },
  {
   "cell_type": "code",
   "execution_count": null,
   "metadata": {
    "collapsed": false
   },
   "outputs": [],
   "source": [
    "test_im_list[0]"
   ]
  },
  {
   "cell_type": "code",
   "execution_count": null,
   "metadata": {
    "collapsed": false
   },
   "outputs": [],
   "source": [
    "train_directory = 'train/'\n",
    "# Form list of training images names\n",
    "train_dir_files  = os.listdir(train_directory)\n",
    "# Remove hidden MAC files\n",
    "train_dir_files     = [i for i in train_dir_files if i!= '.DS_Store' ]\n",
    "# Convert to grayscale 50 x 50 images\n",
    "# !!! Modify image augmentation/normalization as necessary !!!\n",
    "train_im_list = [Image.open(train_directory + im).convert(\"L\").resize((224,224)) for im in train_dir_files]"
   ]
  },
  {
   "cell_type": "code",
   "execution_count": null,
   "metadata": {
    "collapsed": true
   },
   "outputs": [],
   "source": [
    "# Get training labels \n",
    "train_labels = [get_train_label(file) for file in train_dir_files]\n",
    "\n",
    "# Get testing numbers (file names) \n",
    "test_numbers = [file_name.split('.')[0] for file_name in test_dir_files]"
   ]
  },
  {
   "cell_type": "code",
   "execution_count": null,
   "metadata": {
    "collapsed": false
   },
   "outputs": [],
   "source": [
    "(train_labels[0:5], train_labels[20000:20005])"
   ]
  },
  {
   "cell_type": "code",
   "execution_count": null,
   "metadata": {
    "collapsed": true
   },
   "outputs": [],
   "source": [
    "# Formatted data as (numpy arrays of) list of tuples of modified image and respective label or number\n",
    "train_data = [(np.array(train_im), np.array(train_label)) for (train_im, train_label) in zip(train_im_list, train_labels)]\n",
    "test_data  = [(np.array(test_im), np.array(test_number)) for (test_im, test_number) in zip(test_im_list, test_numbers)]"
   ]
  },
  {
   "cell_type": "markdown",
   "metadata": {},
   "source": [
    "Convolutional Neural Network\n",
    "----"
   ]
  },
  {
   "cell_type": "code",
   "execution_count": null,
   "metadata": {
    "collapsed": false
   },
   "outputs": [],
   "source": [
    "import tensorflow as tf\n",
    "import keras\n",
    "from imagenet_utils import decode_predictions\n",
    "from imagenet_utils import preprocess_input\n",
    "from vgg16 import VGG16"
   ]
  },
  {
   "cell_type": "markdown",
   "metadata": {},
   "source": [
    "#### First, work with VGG16 model."
   ]
  },
  {
   "cell_type": "code",
   "execution_count": null,
   "metadata": {
    "collapsed": true
   },
   "outputs": [],
   "source": [
    "# train_data and test_data are 2 lists of np.array images\n",
    "# need to preprocess images a bit more first\n",
    "\n",
    "# make img file (1, 3, 224, 224)\n",
    "train_data = [preprocess_input(np.expand_dims(image, axis = 0)) for image in train_data]\n",
    "test_data = [preprocess_input(np.expand_dims(image, axis = 0)) for image in test_data]"
   ]
  },
  {
   "cell_type": "code",
   "execution_count": null,
   "metadata": {
    "collapsed": true
   },
   "outputs": [],
   "source": [
    "# load model\n",
    "model = VGG16(weights=\"imagenet\")"
   ]
  },
  {
   "cell_type": "code",
   "execution_count": null,
   "metadata": {
    "collapsed": true
   },
   "outputs": [],
   "source": [
    "# classify the image\n",
    "preds = [model.predict(image) for image in train_data]\n",
    "\n",
    "(inIDs, labels) = [decode_predictions(pred)[0] for pred in preds]"
   ]
  },
  {
   "cell_type": "markdown",
   "metadata": {},
   "source": [
    "_Need opencv to use the below code._"
   ]
  },
  {
   "cell_type": "code",
   "execution_count": null,
   "metadata": {
    "collapsed": true
   },
   "outputs": [],
   "source": [
    "# display the predictions to our screen\n",
    "print(\"ImageNet ID: {}, Label: {}\".format(inID, label))\n",
    "cv2.putText(orig, \"Label: {}\".format(label), (10, 30),\n",
    "\tcv2.FONT_HERSHEY_SIMPLEX, 0.9, (0, 255, 0), 2)\n",
    "cv2.imshow(\"Classification\", orig)\n",
    "cv2.waitKey(0)"
   ]
  },
  {
   "cell_type": "markdown",
   "metadata": {},
   "source": [
    "#### Next Steps:\n",
    "1. Take **labels** and figure out if cat or dog based on classification output list. {:|:}\n",
    "2. Calculate accuracy. {:|:}\n",
    "3. Modify model if needed.\n",
    "4. Try on other CNNs.\n",
    "5. profit"
   ]
  },
  {
   "cell_type": "code",
   "execution_count": null,
   "metadata": {
    "collapsed": false
   },
   "outputs": [],
   "source": [
    "# Load in Imagenet classications groupings for cats and dogs\n",
    "with open('cats.txt') as f:\n",
    "    cats = [line.rstrip() for line in f]\n",
    "with open('dogs.txt') as f:\n",
    "    dogs = [line.rstrip() for line in f]"
   ]
  },
  {
   "cell_type": "code",
   "execution_count": null,
   "metadata": {
    "collapsed": true
   },
   "outputs": [],
   "source": [
    "def cat_or_dog(full_class_string):\n",
    "    \"\"\"Returns generalized classification of cat or dog\"\"\"\n",
    "    if full_class_string in cats: return 'cat'\n",
    "    if full_class_string in dogs: return 'dog'\n",
    "    \n",
    "def one_or_zero(full_class_string):\n",
    "    \"\"\"Returns generalize classification of cat or dog as bool\"\"\"\n",
    "    if full_class_string in cats: return 0\n",
    "    if full_class_string in dogs: return 1\n",
    "    \n",
    "from operator import eq\n",
    "def calculate_accuracy(pred_labels, true_labels):\n",
    "    return sum(map(eq, pred_labels, true_labels)) / float(len(true_labels))"
   ]
  },
  {
   "cell_type": "code",
   "execution_count": null,
   "metadata": {
    "collapsed": false
   },
   "outputs": [],
   "source": [
    "simple_labels = [one_or_zero(label) for label in labels]\n",
    "\n",
    "accuracy = calculate_accuracy(simple_labels, train_labels) #Change 'train_labels' to test_labels\n",
    "error = 1 - accuracy"
   ]
  },
  {
   "cell_type": "code",
   "execution_count": null,
   "metadata": {
    "collapsed": true
   },
   "outputs": [],
   "source": []
  }
 ],
 "metadata": {
  "anaconda-cloud": {},
  "kernelspec": {
   "display_name": "Python [default]",
   "language": "python",
   "name": "python2"
  },
  "language_info": {
   "codemirror_mode": {
    "name": "ipython",
    "version": 2
   },
   "file_extension": ".py",
   "mimetype": "text/x-python",
   "name": "python",
   "nbconvert_exporter": "python",
   "pygments_lexer": "ipython2",
   "version": "2.7.12"
  }
 },
 "nbformat": 4,
 "nbformat_minor": 2
}
